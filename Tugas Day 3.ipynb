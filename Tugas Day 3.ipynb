{
  "nbformat": 4,
  "nbformat_minor": 0,
  "metadata": {
    "colab": {
      "name": "Untitled1.ipynb",
      "provenance": [],
      "collapsed_sections": [],
      "authorship_tag": "ABX9TyND7NRAYy7HUgHsQ5pkzg6B",
      "include_colab_link": true
    },
    "kernelspec": {
      "name": "python3",
      "display_name": "Python 3"
    }
  },
  "cells": [
    {
      "cell_type": "markdown",
      "metadata": {
        "id": "view-in-github",
        "colab_type": "text"
      },
      "source": [
        "<a href=\"https://colab.research.google.com/github/metria14/Tugas-DST-MT/blob/main/Tugas%20Day%203.ipynb\" target=\"_parent\"><img src=\"https://colab.research.google.com/assets/colab-badge.svg\" alt=\"Open In Colab\"/></a>"
      ]
    },
    {
      "cell_type": "markdown",
      "metadata": {
        "id": "SrT4FuGDaaEM"
      },
      "source": [
        "**TUGAS 3**\n",
        "\n",
        "Penting :\n",
        "\n",
        "    Teman-teman dapat mengerjakan soal ini secara berdiskusi, tapi tidak dianjurkan untuk copy paste.\n",
        "    Saat dikirim, notebook sudah dalam keadaan running.\n",
        "    kerjakan tugas secara lengkap, karena akan dicek dengan baik\n",
        "    format pengumpulan tugas cek pada grup telegram data science training\n",
        "\n"
      ]
    },
    {
      "cell_type": "markdown",
      "metadata": {
        "id": "LkkEAg1eajfY"
      },
      "source": [
        "Soal 1\n",
        "\n",
        "Lengkapilah code untuk menampilkan perulangan berikut sesuai dengan expected result yang diharapkan !\n"
      ]
    },
    {
      "cell_type": "code",
      "metadata": {
        "id": "43HN18aTboIc",
        "outputId": "b4b9b239-19e4-4de9-92cb-1eb4ba34a2ef",
        "colab": {
          "base_uri": "https://localhost:8080/"
        }
      },
      "source": [
        "for i in \"semangka\" :\n",
        "    print(i)"
      ],
      "execution_count": 18,
      "outputs": [
        {
          "output_type": "stream",
          "text": [
            "s\n",
            "e\n",
            "m\n",
            "a\n",
            "n\n",
            "g\n",
            "k\n",
            "a\n"
          ],
          "name": "stdout"
        }
      ]
    },
    {
      "cell_type": "markdown",
      "metadata": {
        "id": "UML6dGpnaoHt"
      },
      "source": [
        "Soal 2\n",
        "\n",
        "    \n",
        "    lengkapilah codeperulangan untuk menampilkan expected result\n",
        "    Ketentuan\n",
        "        setiap ingin menampilkan kelipatan 5 ubah menjadi lima\n",
        "        setiap kelipatan 7 ubah menjadi tujuh'\n",
        "        jika bertemu 35 dan 70 ubah menjadi tiga lima dan tujuh puluh\n",
        "        dan jika bertemu 100 ubah menjadi end\n",
        "\n"
      ]
    },
    {
      "cell_type": "code",
      "metadata": {
        "id": "9KC5MzMjcprC",
        "outputId": "7f5b546d-c66d-4325-ce4d-540697a3a50f",
        "colab": {
          "base_uri": "https://localhost:8080/"
        }
      },
      "source": [
        "# lengkapi code berikut\n",
        "i = 0\n",
        "while i < 100 :\n",
        "    i +=1\n",
        "    if i==100 :\n",
        "        print('End')\n",
        "        continue\n",
        "    if i==35 or i==70 :\n",
        "      print('tiga lima dan tujuh puluh !')\n",
        "      continue  \n",
        "    if i %5==0 : \n",
        "      print('Lima') \n",
        "      continue\n",
        "    if i %7==0 :\n",
        "      print('Tujuh')\n",
        "      continue\n",
        "    if i %7==0 :\n",
        "      print('Tujuh')\n",
        "      continue\n",
        "    print(i)\n",
        "    "
      ],
      "execution_count": 19,
      "outputs": [
        {
          "output_type": "stream",
          "text": [
            "1\n",
            "2\n",
            "3\n",
            "4\n",
            "Lima\n",
            "6\n",
            "Tujuh\n",
            "8\n",
            "9\n",
            "Lima\n",
            "11\n",
            "12\n",
            "13\n",
            "Tujuh\n",
            "Lima\n",
            "16\n",
            "17\n",
            "18\n",
            "19\n",
            "Lima\n",
            "Tujuh\n",
            "22\n",
            "23\n",
            "24\n",
            "Lima\n",
            "26\n",
            "27\n",
            "Tujuh\n",
            "29\n",
            "Lima\n",
            "31\n",
            "32\n",
            "33\n",
            "34\n",
            "tiga lima dan tujuh puluh !\n",
            "36\n",
            "37\n",
            "38\n",
            "39\n",
            "Lima\n",
            "41\n",
            "Tujuh\n",
            "43\n",
            "44\n",
            "Lima\n",
            "46\n",
            "47\n",
            "48\n",
            "Tujuh\n",
            "Lima\n",
            "51\n",
            "52\n",
            "53\n",
            "54\n",
            "Lima\n",
            "Tujuh\n",
            "57\n",
            "58\n",
            "59\n",
            "Lima\n",
            "61\n",
            "62\n",
            "Tujuh\n",
            "64\n",
            "Lima\n",
            "66\n",
            "67\n",
            "68\n",
            "69\n",
            "tiga lima dan tujuh puluh !\n",
            "71\n",
            "72\n",
            "73\n",
            "74\n",
            "Lima\n",
            "76\n",
            "Tujuh\n",
            "78\n",
            "79\n",
            "Lima\n",
            "81\n",
            "82\n",
            "83\n",
            "Tujuh\n",
            "Lima\n",
            "86\n",
            "87\n",
            "88\n",
            "89\n",
            "Lima\n",
            "Tujuh\n",
            "92\n",
            "93\n",
            "94\n",
            "Lima\n",
            "96\n",
            "97\n",
            "Tujuh\n",
            "99\n",
            "End\n"
          ],
          "name": "stdout"
        }
      ]
    },
    {
      "cell_type": "markdown",
      "metadata": {
        "id": "z2QI7e6AbIKG"
      },
      "source": [
        "soal 4\n",
        "\n",
        "    Program Kuota SKS, yaitu program yang dapat menentukan kuota SKS yang diperoleh berdasarkan nilai IPK. \n",
        "    Jika IPK besar dari 3.00 kuota SKS 24, \n",
        "    jika IPK 2.50 sampai 2.99 kuota SKS 21, \n",
        "    jika IPK 2.00 sampai 2.49 kuota SKS 18, \n",
        "    jika IPK di bawah 2.00 kuota SKS 15.\n"
      ]
    },
    {
      "cell_type": "code",
      "metadata": {
        "id": "CxFArJzwf1O7",
        "outputId": "d4a651c5-bd05-4a9e-9994-e257d66303db",
        "colab": {
          "base_uri": "https://localhost:8080/"
        }
      },
      "source": [
        "# name list\n",
        "name_list = [\"Bernice\", \"Aaron\", \"Cody\"]\n",
        "\n",
        "\n",
        "# lengkapi kode \n",
        "name_list.sort()\n",
        "print('Here is the list in alphabetical order :')\n",
        "for i in name_list :\n",
        "    print(i)\n",
        "print()\n",
        "name_list.sort(reverse=True)\n",
        "print('Here is the list in reverse alphabetical order :')\n",
        "for i in name_list :\n",
        "    print(i)\n",
        "print()\n",
        "name_list = ['Bernice', 'Aaron', 'Cody']\n",
        "print('Here is the list in its original order')\n",
        "for i in name_list :\n",
        "    print(i)"
      ],
      "execution_count": 20,
      "outputs": [
        {
          "output_type": "stream",
          "text": [
            "Here is the list in alphabetical order :\n",
            "Aaron\n",
            "Bernice\n",
            "Cody\n",
            "\n",
            "Here is the list in reverse alphabetical order :\n",
            "Cody\n",
            "Bernice\n",
            "Aaron\n",
            "\n",
            "Here is the list in its original order\n",
            "Bernice\n",
            "Aaron\n",
            "Cody\n"
          ],
          "name": "stdout"
        }
      ]
    },
    {
      "cell_type": "code",
      "metadata": {
        "id": "MUTPCyzlaJvh",
        "outputId": "069b9ec3-0cf9-4c66-d347-711f5151f6b5",
        "colab": {
          "base_uri": "https://localhost:8080/"
        }
      },
      "source": [
        "IPK = float(input())\n",
        "if IPK >=3 :\n",
        "    print('Anda dapat mengambil kuota 24 SKS')\n",
        "elif IPK >=2.50 :\n",
        "    print('Anda dapat mengambil kuota 21 SKS')\n",
        "elif IPK >=2 :\n",
        "    print('Anda dapat mengambil kuota 18 SKS')\n",
        "else :\n",
        "    print('Anda dapat mengambil kuota 15 SKS')"
      ],
      "execution_count": 21,
      "outputs": [
        {
          "output_type": "stream",
          "text": [
            "4\n",
            "Anda dapat mengambil kuota 24 SKS\n"
          ],
          "name": "stdout"
        }
      ]
    },
    {
      "cell_type": "markdown",
      "metadata": {
        "id": "61I6QFX2bxBF"
      },
      "source": [
        "Soal 5\n",
        "\n",
        "Kerjakan dengan benar soal dictionary berikut.\n",
        "Dari hasil ouput brand yang ditampilkan adalah ford. tugas anda lakukan perubahan pada brand menjadi \"honda\" dengan menggunakan fungsi ubah atributnya. tidak mengubah nilai secara langsung pada dictionary awal "
      ]
    },
    {
      "cell_type": "code",
      "metadata": {
        "id": "iXAB7orHaMM6",
        "outputId": "11bc87a9-e8fc-45f4-c874-1935e213c296",
        "colab": {
          "base_uri": "https://localhost:8080/"
        }
      },
      "source": [
        "thisdict = {\n",
        "    'brand' : 'ford',\n",
        "    'model'  : 'mustang',\n",
        "    'year'   : 1964\n",
        "}\n",
        "\n",
        "print(thisdict)\n",
        "thisdict['brand'] = 'honda'\n",
        "print(thisdict)"
      ],
      "execution_count": 22,
      "outputs": [
        {
          "output_type": "stream",
          "text": [
            "{'brand': 'ford', 'model': 'mustang', 'year': 1964}\n",
            "{'brand': 'honda', 'model': 'mustang', 'year': 1964}\n"
          ],
          "name": "stdout"
        }
      ]
    }
  ]
}