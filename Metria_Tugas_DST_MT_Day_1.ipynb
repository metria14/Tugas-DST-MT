{
  "nbformat": 4,
  "nbformat_minor": 0,
  "metadata": {
    "kernelspec": {
      "display_name": "Python 3",
      "language": "python",
      "name": "python3"
    },
    "language_info": {
      "codemirror_mode": {
        "name": "ipython",
        "version": 3
      },
      "file_extension": ".py",
      "mimetype": "text/x-python",
      "name": "python",
      "nbconvert_exporter": "python",
      "pygments_lexer": "ipython3",
      "version": "3.8.6"
    },
    "colab": {
      "name": "Metria Tugas DST-MT Day 1.ipynb",
      "provenance": [],
      "collapsed_sections": [],
      "include_colab_link": true
    }
  },
  "cells": [
    {
      "cell_type": "markdown",
      "metadata": {
        "id": "view-in-github",
        "colab_type": "text"
      },
      "source": [
        "<a href=\"https://colab.research.google.com/github/metria14/Tugas-DST-MT/blob/main/Metria_Tugas_DST_MT_Day_1.ipynb\" target=\"_parent\"><img src=\"https://colab.research.google.com/assets/colab-badge.svg\" alt=\"Open In Colab\"/></a>"
      ]
    },
    {
      "cell_type": "code",
      "metadata": {
        "id": "yWqIV-mA_ZD2",
        "outputId": "31871a17-629c-4a42-b47b-0d043607cebb",
        "colab": {
          "base_uri": "https://localhost:8080/"
        }
      },
      "source": [
        "no_1 = \"\"\"\n",
        "1. Python adalah salah satu bahasa pemrograman berorientasi objek yang paling mudah dipelajari karena sintaknya rapi dan mudah dipahami dibanding dengan bahasa pemrograman lain. \n",
        "Python termasuk ke dalam tingkat tinggi (high level programming language).\n",
        "Python diciptakan di Centrum Wiskunde dan Informatika (CWI) di Belanda pada tahun 1991 oleh matematikawan, Guido Van Russom.\n",
        "Bahasa pemrograman python terinspirasi dari bahasa pemrograman ABC. Nama Python bukan berarti ular sanca, akan tetapi berasal dari nama grup komedi Inggris, Monty Python. \n",
        "Monty Python merupakan grup komedi yang digemari oleh Guido, sang pencipta Python.\n",
        "-dikutip dari berbagai sumber-\n",
        "\"\"\"\n",
        "print(no_1)\n",
        "\n",
        "no_2 = \"\"\"\n",
        "2. Keunggulan Python diantaranya adalah :\n",
        "- Python bersifat open source\n",
        "- Python memiliki banyak library yang mempermudah pengguna dalam berbagai macam keperluan.\n",
        "- Python menggunakan sedikit baris kode untuk menyelesaikan masalah\n",
        "- Mudah dibaca, memiliki kesamaan dengan bahasa Inggris dengan pengaruh Matematika\n",
        "- Python menggunakan baris baru untuk mengakhiri perintah, lebih praktis dibandingkan bahasa pemrograman lain yang menggunakan titik koma ataupun tanda kurung. \n",
        "\"\"\"\n",
        "print(no_2)\n",
        "\n",
        "\n",
        "## Kalkulator Sederhana untuk menghitung penjumlahan, pengurangan, perkalian dan pembagian ##\n",
        "bil1= int(input(\"Bilangan 1 : \"))\n",
        "bil2= int(input(\"Bilangan 2 : \"))\n",
        "def tambah():\n",
        "    hasil= bil1+bil2\n",
        "    print(hasil)\n",
        "def kurang():\n",
        "    hasil= bil1-bil2\n",
        "    print(hasil)\n",
        "def kali():\n",
        "    hasil= bil1*bil2\n",
        "    print(hasil)\n",
        "def bagi():\n",
        "    hasil=bil1/bil2\n",
        "    print(hasil)\n",
        "    \n",
        "print(\"hasil penjumlahan adalah: \"), tambah()\n",
        "print(\"hasil pengurangan adalah: \"), kurang()\n",
        "print(\"hasil perkalian adalah: \"), kali()\n",
        "print(\"hasil pembagian adalah: \"), bagi()\n"
      ],
      "execution_count": 4,
      "outputs": [
        {
          "output_type": "stream",
          "text": [
            "\n",
            "1. Python adalah salah satu bahasa pemrograman berorientasi objek yang paling mudah dipelajari karena sintaknya rapi dan mudah dipahami dibanding dengan bahasa pemrograman lain. \n",
            "Python termasuk ke dalam tingkat tinggi (high level programming language).\n",
            "Python diciptakan di Centrum Wiskunde dan Informatika (CWI) di Belanda pada tahun 1991 oleh matematikawan, Guido Van Russom.\n",
            "Bahasa pemrograman python terinspirasi dari bahasa pemrograman ABC. Nama Python bukan berarti ular sanca, akan tetapi berasal dari nama grup komedi Inggris, Monty Python. \n",
            "Monty Python merupakan grup komedi yang digemari oleh Guido, sang pencipta Python.\n",
            "-dikutip dari berbagai sumber-\n",
            "\n",
            "\n",
            "2. Keunggulan Python diantaranya adalah :\n",
            "- Python bersifat open source\n",
            "- Python memiliki banyak library yang mempermudah pengguna dalam berbagai macam keperluan.\n",
            "- Python menggunakan sedikit baris kode untuk menyelesaikan masalah\n",
            "- Mudah dibaca, memiliki kesamaan dengan bahasa Inggris dengan pengaruh Matematika\n",
            "- Python menggunakan baris baru untuk mengakhiri perintah, lebih praktis dibandingkan bahasa pemrograman lain yang menggunakan titik koma ataupun tanda kurung. \n",
            "\n",
            "Bilangan 1 : 5\n",
            "Bilangan 2 : 10\n",
            "hasil penjumlahan adalah: \n",
            "15\n",
            "hasil pengurangan adalah: \n",
            "-5\n",
            "hasil perkalian adalah: \n",
            "50\n",
            "hasil pembagian adalah: \n",
            "0.5\n"
          ],
          "name": "stdout"
        },
        {
          "output_type": "execute_result",
          "data": {
            "text/plain": [
              "(None, None)"
            ]
          },
          "metadata": {
            "tags": []
          },
          "execution_count": 4
        }
      ]
    },
    {
      "cell_type": "markdown",
      "metadata": {
        "id": "KtXUGvper2pv"
      },
      "source": [
        "# Bagian Baru"
      ]
    },
    {
      "cell_type": "code",
      "metadata": {
        "id": "3BAGFpYA_ZD_"
      },
      "source": [
        ""
      ],
      "execution_count": 2,
      "outputs": []
    }
  ]
}