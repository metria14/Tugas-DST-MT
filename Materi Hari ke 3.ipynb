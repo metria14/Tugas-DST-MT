{
  "nbformat": 4,
  "nbformat_minor": 0,
  "metadata": {
    "colab": {
      "name": "Materi Hari ke-3.ipynb",
      "provenance": [],
      "authorship_tag": "ABX9TyMJxNcw7tSTLNq4bwQfo8nE",
      "include_colab_link": true
    },
    "kernelspec": {
      "name": "python3",
      "display_name": "Python 3"
    }
  },
  "cells": [
    {
      "cell_type": "markdown",
      "metadata": {
        "id": "view-in-github",
        "colab_type": "text"
      },
      "source": [
        "<a href=\"https://colab.research.google.com/github/metria14/Tugas-DST-MT/blob/main/Materi%20Hari%20ke%203.ipynb\" target=\"_parent\"><img src=\"https://colab.research.google.com/assets/colab-badge.svg\" alt=\"Open In Colab\"/></a>"
      ]
    },
    {
      "cell_type": "markdown",
      "metadata": {
        "id": "udAhlJBIIcLF"
      },
      "source": [
        "Perulangan menggunakan For\n",
        "\n",
        "Pada kode for ini terdapat beberapa komponen yang dicantumkan, antara lain: (1) inisialisasi, (2) kondisi, (3) perubahan nilai, (4) statement yang diulang. Berikut ini format sintaks untuk kode for:"
      ]
    },
    {
      "cell_type": "code",
      "metadata": {
        "id": "pintCSHYHw4a",
        "outputId": "73285cd6-9790-4043-a065-0aa3e6ac885b",
        "colab": {
          "base_uri": "https://localhost:8080/"
        }
      },
      "source": [
        "# 1. Menampilkan perulangan secara terurut\n",
        "perulangan = 10\n",
        "# iterasi = kondisi, in range (perulangan) = perubahan nilai\n",
        "for i in range(perulangan):\n",
        "    # statement yang diulang\n",
        "    print('Perulangann ke:', i) "
      ],
      "execution_count": 5,
      "outputs": [
        {
          "output_type": "stream",
          "text": [
            "Perulangann ke: 0\n",
            "Perulangann ke: 1\n",
            "Perulangann ke: 2\n",
            "Perulangann ke: 3\n",
            "Perulangann ke: 4\n",
            "Perulangann ke: 5\n",
            "Perulangann ke: 6\n",
            "Perulangann ke: 7\n",
            "Perulangann ke: 8\n",
            "Perulangann ke: 9\n"
          ],
          "name": "stdout"
        }
      ]
    },
    {
      "cell_type": "code",
      "metadata": {
        "id": "XyfNhiRhIBz8",
        "outputId": "291baca7-da77-4c63-bac5-85a949ccbc58",
        "colab": {
          "base_uri": "https://localhost:8080/"
        }
      },
      "source": [
        "# 2. Menampilkan isi list secara terurut\n",
        "listdata = ['kucing', 'ayam', 'burung', 'kelinci']\n",
        "\n",
        "for i in listdata:\n",
        "    print('hewan', i)"
      ],
      "execution_count": 6,
      "outputs": [
        {
          "output_type": "stream",
          "text": [
            "hewan kucing\n",
            "hewan ayam\n",
            "hewan burung\n",
            "hewan kelinci\n"
          ],
          "name": "stdout"
        }
      ]
    },
    {
      "cell_type": "code",
      "metadata": {
        "id": "5eKsmymVIUrb",
        "outputId": "9c068f94-f25e-4381-9d19-94d55c85a5d1",
        "colab": {
          "base_uri": "https://localhost:8080/"
        }
      },
      "source": [
        "# 3. melakukan perulangan dengan menggunakan kondisi dimana jika nilai lebih besar dari 30 maka kali dengan 2 jika tidak maka kali dengan 200.\n",
        "nilai = 10,20,30,40\n",
        "for i in nilai:\n",
        "    if i < 30:\n",
        "        print(i*2)\n",
        "    else:\n",
        "        print(i*200)"
      ],
      "execution_count": null,
      "outputs": [
        {
          "output_type": "stream",
          "text": [
            "20\n",
            "40\n",
            "6000\n",
            "8000\n"
          ],
          "name": "stdout"
        }
      ]
    },
    {
      "cell_type": "markdown",
      "metadata": {
        "id": "RzXnXgvAJJMo"
      },
      "source": [
        "Perulangan while disebut juga dengan uncounted loop atau perulangan tak terhitung, artinya while ini berjalan terus beulang dan akan berhenti jika syarat berhenti telah terpenuhi. Kode while-do merupakan kode alternatif untuk melakukan perulangan selain for. Cara kerjanya sama, namun sintaks (aturan penulisan) yang berbeda. "
      ]
    },
    {
      "cell_type": "markdown",
      "metadata": {
        "id": "2OXEzafTCIzk"
      },
      "source": [
        "Membuat perulangan untuk menentukan jawaban user. dengan kondisi berhenti nya adalah jika user memilih tidak berhenti (ya) maka akan terus dilakukan perulangan hingga user memilih (tidak)."
      ]
    },
    {
      "cell_type": "code",
      "metadata": {
        "id": "ffEIiJhxCWNo",
        "outputId": "9d327acd-27a3-4d81-e538-48c36851ddd0",
        "colab": {
          "base_uri": "https://localhost:8080/"
        }
      },
      "source": [
        "# contoh while\n",
        "jawaban = 'ya'\n",
        "jumlah = 0\n",
        "\n",
        "while(jawaban == 'ya'):\n",
        "    jumlah += 1\n",
        "    jawaban = input(\"apakah anda tidak ingin berhenti [ya/tidak]\")\n",
        "\n",
        "print('jumlah perulangan', jumlah)"
      ],
      "execution_count": 1,
      "outputs": [
        {
          "output_type": "stream",
          "text": [
            "apakah anda tidak ingin berhenti [ya/tidak]ya\n",
            "apakah anda tidak ingin berhenti [ya/tidak]tidak\n",
            "jumlah perulangan 2\n"
          ],
          "name": "stdout"
        }
      ]
    },
    {
      "cell_type": "markdown",
      "metadata": {
        "id": "zodLidUtC8Y8"
      },
      "source": [
        " Contoh ini sama dengan perulangan nomor satu , namun disini ditambahkan fungsi break, yang diartikan sebagai tanda berhenti jika terdapat suatu kondisi terpenuhi."
      ]
    },
    {
      "cell_type": "code",
      "metadata": {
        "id": "t2H2MgQUDAmt",
        "outputId": "0b7a83a9-27b8-4059-85f7-1d07ecd1007f",
        "colab": {
          "base_uri": "https://localhost:8080/"
        }
      },
      "source": [
        "# contoh while dengan mengguankan break\n",
        "jawaban = 'ya'\n",
        "jumlah = 0\n",
        "\n",
        "while(True):\n",
        "    jumlah += 1\n",
        "    jawaban = input(\"apakah kamu ingin lanjut perulangannya [ya/tidak]\")\n",
        "    if jawaban == 'tidak':\n",
        "        break\n",
        "\n",
        "print(\"jumlah perulangan\", jumlah)"
      ],
      "execution_count": 3,
      "outputs": [
        {
          "output_type": "stream",
          "text": [
            "apakah kamu ingin lanjut perulangannya [ya/tidak]tydak\n",
            "apakah kamu ingin lanjut perulangannya [ya/tidak]y\n",
            "apakah kamu ingin lanjut perulangannya [ya/tidak]ya\n",
            "apakah kamu ingin lanjut perulangannya [ya/tidak]tidak\n",
            "jumlah perulangan 4\n"
          ],
          "name": "stdout"
        }
      ]
    },
    {
      "cell_type": "markdown",
      "metadata": {
        "id": "yqo4W72EDRUv"
      },
      "source": [
        " Membuat perulangan untuk menampilkan nilai 1 hingga 10 yang dimulai dari angka 1 memiliki kondisi jika saat perulangan menemukan angka 6 maka akan di break dan lanjut ke perulangan selanjutnya. perulangan selanjutna dilaproses untuk 2 angka setelah 1 merupakan fungsi dari (+= 2)."
      ]
    },
    {
      "cell_type": "code",
      "metadata": {
        "id": "dFCHwtrdDSWl",
        "outputId": "f989bd5c-212b-424f-9d48-4be80ad4f05c",
        "colab": {
          "base_uri": "https://localhost:8080/"
        }
      },
      "source": [
        "nilai = 1\n",
        "while nilai < 10:\n",
        "    print(nilai)\n",
        "    if nilai == 6:\n",
        "      break\n",
        "    nilai += 2"
      ],
      "execution_count": 4,
      "outputs": [
        {
          "output_type": "stream",
          "text": [
            "1\n",
            "3\n",
            "5\n",
            "7\n",
            "9\n"
          ],
          "name": "stdout"
        }
      ]
    }
  ]
}