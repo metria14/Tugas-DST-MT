{
  "nbformat": 4,
  "nbformat_minor": 0,
  "metadata": {
    "colab": {
      "name": "Materi day 4.ipynb",
      "provenance": [],
      "authorship_tag": "ABX9TyO1jOHqiJOL6U1U8PTuHSDJ",
      "include_colab_link": true
    },
    "kernelspec": {
      "name": "python3",
      "display_name": "Python 3"
    }
  },
  "cells": [
    {
      "cell_type": "markdown",
      "metadata": {
        "id": "view-in-github",
        "colab_type": "text"
      },
      "source": [
        "<a href=\"https://colab.research.google.com/github/metria14/Tugas-DST-MT/blob/main/Materi_day_4.ipynb\" target=\"_parent\"><img src=\"https://colab.research.google.com/assets/colab-badge.svg\" alt=\"Open In Colab\"/></a>"
      ]
    },
    {
      "cell_type": "markdown",
      "metadata": {
        "id": "MuXWIFIienxr"
      },
      "source": [
        "# **Tentang Function(Fungsi) dan method (prosedure)**\n",
        "\n",
        "Fungsi atau prosedur adalah sebuah program terpisah (sub program diluar program utama) dalam blok tersendiri yang berfungsi untuk menyelesaikan masalah khusus."
      ]
    },
    {
      "cell_type": "markdown",
      "metadata": {
        "id": "EINdNDCyey5g"
      },
      "source": [
        "## **Perbedaan antara fungsi dan prosedur**\n",
        "\n",
        "\n",
        "1.   Fungsi harus dibentuk dengan parameter sedangkan prosedur boleh ada boleh tidak\n",
        "2.  Nama fungsi dapat digunakan secara langsung namun pada nama prosedur tidak dapat digunakan secara langsung.\n",
        "3.  Nilai yang dihasilkan fungsi akan disimpan pada nama fungsi itu sendiri dan dapat dipindah alihkan ke dalam variabel, sedangkan prosedur tidak bisa.\n",
        "4.   Fungsi ditandai dengan nilai balik (return value)  jika tidak memiliki nilai balik maka sub program tersebut merupakan prosedur.\n",
        "\n",
        "\n",
        "\n",
        "\n",
        "\n"
      ]
    },
    {
      "cell_type": "markdown",
      "metadata": {
        "id": "N0PkmJB9fZ8B"
      },
      "source": [
        "# **Fungsi**\n",
        "\n",
        "Ketika membuat suatu program dengan kondisi yang komplek dengan artian banyak sekali fitur, dalam kondisi seperti ini maka, kita membutuhkan penggunaan fungsi/Function. Jika kita buat dengan terstruktur atau tanpa fungsi, maka kita akan mendapatkan kerepotan dalam menulis code, selain itu code tersebut akan menjadi sulit dalam merawat dan membaca codenya. Function ini melakukan pemecahan terhadap program-program besar menjadi kecil-kecil (sub-sub) yang sederhana.\n",
        "\n",
        "Aturan-aturan dalam membuat fungsi di Python:\n",
        "\n",
        "\n",
        "1. Fungsi blok dimulai dengan def diikuti nama fungsi dan tanda kurung ( ).\n",
        "2. Setiap parameter atau argumen diletakkan pada tanda kurung. Kita bisa menentukan argumen pada tanda kurung. Dengan menggunakan parameter fungsi akan menjadi lebih fleksibel/dinamis, karena dapat memberikan hasil yang berubah-ubah setiap fungsi tersebut dipanggil\n",
        "3. Pernyataan pertama fungsi bisa berupa pernyataan opsional – string dokumentasi fungsi ataupun docstring.\n",
        "Blok kode pada setiap fungsi dimulai dengan titik dua (:) dan indentasi.\n",
        "4. Pernyataan return/kembali dari sebuah fungsi, secara opsional menyampaikan kembali ekspresi ke pemanggil. Pernyataan pengembalian tanpa argumen sama dengan return None."
      ]
    },
    {
      "cell_type": "markdown",
      "metadata": {
        "id": "wWfY-B38gBOe"
      },
      "source": [
        "## **Mendefinisikan Fungsi di Python**\n",
        "Secara umum kita dapat mendefinisikan fungsi di python sebagai berikut:\n"
      ]
    },
    {
      "cell_type": "code",
      "metadata": {
        "id": "BEzqGRaYgcy5"
      },
      "source": [
        "def nama_fungsi ():\n",
        "   perintah1\n",
        "   perintah2\n",
        "   return ekspresi"
      ],
      "execution_count": null,
      "outputs": []
    },
    {
      "cell_type": "markdown",
      "metadata": {
        "id": "HfqPhHcngfjw"
      },
      "source": [
        "Untuk mendefinisikan fungsi harap diperhatikan terdapat kata kunci def sebelum nama_fungsi diikuti dengan tanda kurung (isi parameter) dan titik dua (:)"
      ]
    },
    {
      "cell_type": "markdown",
      "metadata": {
        "id": "YWmddwKHglL0"
      },
      "source": [
        "## **Memanggil Fungsi**\n",
        "\n",
        "Setelah berhasil membuat fungsi, kemudian dilakukan pemanggilan fungsi"
      ]
    },
    {
      "cell_type": "code",
      "metadata": {
        "id": "IdhS_oO-gsFB"
      },
      "source": [
        "nama_fungsi()"
      ],
      "execution_count": null,
      "outputs": []
    },
    {
      "cell_type": "markdown",
      "metadata": {
        "id": "kN9rvRDngqcA"
      },
      "source": [
        "## **Contoh Penerapan Fungsi**\n",
        "\n",
        "1. Mendefinisikan fungsi dengan menggunakan parameter kosong"
      ]
    },
    {
      "cell_type": "code",
      "metadata": {
        "id": "oIFj7P6hhT01"
      },
      "source": [
        "# Mendefinisikan fungsi dengan parameter kosong\n",
        "def nama_fungsinya():\n",
        "  return print(\"hello peserta training data science mutiara technologi\")\n",
        "\n",
        "# Memanggil fungsi\n",
        "nama_fungsinya()"
      ],
      "execution_count": null,
      "outputs": []
    },
    {
      "cell_type": "markdown",
      "metadata": {
        "id": "EEOEwPFLhiQj"
      },
      "source": [
        "2. Mendefinisikan fungsi dengan memberikan nilai input ke dalam fungsi atau menggunakan nilai dengan 1 parameter"
      ]
    },
    {
      "cell_type": "code",
      "metadata": {
        "id": "PIyvbMlqhoUl",
        "outputId": "499f55f0-c055-4262-d401-9201f7c7e616",
        "colab": {
          "base_uri": "https://localhost:8080/"
        }
      },
      "source": [
        "# Mendefinisikan fungsi dengan 1 parameter \n",
        "def salam(ucapan):\n",
        "  return print(ucapan)\n",
        "\n",
        "salam(\"selamat pagi peserta training data science mutiara technologi\")\n",
        "\n",
        "# atau \n",
        "salam(ucapan = \"semangat pagi peserta training data science mutiara technologi\")"
      ],
      "execution_count": 4,
      "outputs": [
        {
          "output_type": "stream",
          "text": [
            "selamat pagi peserta training data science mutiara technologi\n",
            "semangat pagi peserta training data science mutiara technologi\n"
          ],
          "name": "stdout"
        }
      ]
    },
    {
      "cell_type": "markdown",
      "metadata": {
        "id": "9YhsvFJvhlsz"
      },
      "source": [
        "3. Mendefinisikan fungsi dengan memberikan nilai input ke dalam fungsi atau menggunakan 2 atau lebih parameter. contoh kasus untuk membuat fungsi menghitung persegi panjang."
      ]
    },
    {
      "cell_type": "code",
      "metadata": {
        "id": "rF0HCY9zhxJF"
      },
      "source": [
        "# Mendefiniskan fungsi dengan menggunakan return/pengembalian objek\n",
        "def PersegiPanjang(panjang, lebar):\n",
        "    Luas = panjang * lebar\n",
        "    return Luas \n",
        "\n",
        "print(\"Luas Persegi panjang:\", PersegiPanjang(4, 2))"
      ],
      "execution_count": null,
      "outputs": []
    },
    {
      "cell_type": "code",
      "metadata": {
        "id": "S96RvE9Zh5WU",
        "outputId": "63d11fa1-8012-4a43-d577-17982b7d1da2",
        "colab": {
          "base_uri": "https://localhost:8080/"
        }
      },
      "source": [
        "# Mendefiniskan Fungsi\n",
        "def penjumlahan(x1,x2):\n",
        "   # Menambahkan dua buah bilangan integer\n",
        "  return x1+x2\n",
        "x1 = 100\n",
        "x2 = 50\n",
        "\n",
        "#Memanggil fungsi\n",
        "hasil = penjumlahan(x1,x2)\n",
        "print(hasil)"
      ],
      "execution_count": 5,
      "outputs": [
        {
          "output_type": "stream",
          "text": [
            "150\n"
          ],
          "name": "stdout"
        }
      ]
    },
    {
      "cell_type": "markdown",
      "metadata": {
        "id": "dIdMvuiph0SI"
      },
      "source": [
        "# **Sekilas Tentang Prosedure**\n",
        "Prosedur merupakan sebuah fungsi yang tidak dapat membalikan sebuah nilai."
      ]
    },
    {
      "cell_type": "markdown",
      "metadata": {
        "id": "ym_fERzliD53"
      },
      "source": [
        "## **Contoh penerapan prosedure**\n",
        "\n",
        "1. Mendefinisikan prosedure untuk menggubah huruf kecil menjadi huruf besar semua"
      ]
    },
    {
      "cell_type": "code",
      "metadata": {
        "id": "zjKEmtYpiMpu",
        "outputId": "f0d9ae3d-9a68-4d85-8389-a5004e7808ee",
        "colab": {
          "base_uri": "https://localhost:8080/"
        }
      },
      "source": [
        "# Mendefinisi Prosedure\n",
        "Nama = \"mutiara technology indonesia\"\n",
        "Nama = Nama.upper()\n",
        "\n",
        "# Memanggil prosedure \n",
        "print(Nama)"
      ],
      "execution_count": 6,
      "outputs": [
        {
          "output_type": "stream",
          "text": [
            "MUTIARA TECHNOLOGY INDONESIA\n"
          ],
          "name": "stdout"
        }
      ]
    },
    {
      "cell_type": "markdown",
      "metadata": {
        "id": "A9nXh5BfiPnx"
      },
      "source": [
        "2. Mendefinisikan prosedure untuk menambahkan dua buah bilangan integer"
      ]
    },
    {
      "cell_type": "code",
      "metadata": {
        "id": "TVaB-naSiWVg",
        "outputId": "691d57a5-d310-4ec6-ca5b-4a712f78e90f",
        "colab": {
          "base_uri": "https://localhost:8080/"
        }
      },
      "source": [
        "def penjumlahan(x1,x2):\n",
        "# menambahkan dua buah bilangan integer\n",
        "  print(x1+x2)\n",
        "x1 = 100\n",
        "x2 = 50\n",
        "penjumlahan(x1,x2)"
      ],
      "execution_count": 7,
      "outputs": [
        {
          "output_type": "stream",
          "text": [
            "150\n"
          ],
          "name": "stdout"
        }
      ]
    },
    {
      "cell_type": "markdown",
      "metadata": {
        "id": "I76T8nrWibpJ"
      },
      "source": [
        "Selain method bawaan python. kita bisa juga memanfaatkan library yang telah ada pada python. Library ini semakin mudah lagi kita membuat suatu program. Data science pada python memiliki library seperti numpy, pandas, skit-learn, dan lain sebagainya.\n",
        "\n",
        "Setelah belajar python ini. minggu depannya kita mulai belajar dengan menggunakan library. ayo semakin semangat dalam belajarnya"
      ]
    },
    {
      "cell_type": "markdown",
      "metadata": {
        "id": "T8ns0NQyi63Z"
      },
      "source": [
        "Lihat Blog Sebagai Tambahan referensi Belajar:\n",
        "– https://www.w3schools.com/python/python_functions.asp\n",
        "– https://docs.python.org/3/library/functions.html\n",
        "\n",
        "Lihat youtube Sebagai Tambahan referensi Belajar:\n",
        "– https://www.youtube.com/watch?v=WjM68icSw3s&feature=youtu.be\n",
        "– https://www.youtube.com/watch?v=vWuSLG_6rxA&feature=youtu.be\n",
        "– https://www.youtube.com/watch?v=23dDEp6WPH4&feature=youtu.be\n",
        "– https://www.youtube.com/watch?v=LLJsMtREGs8&feature=youtu.be\n",
        "– https://www.youtube.com/watch?v=xkenVaGZ8aU&feature=youtu.be"
      ]
    }
  ]
}